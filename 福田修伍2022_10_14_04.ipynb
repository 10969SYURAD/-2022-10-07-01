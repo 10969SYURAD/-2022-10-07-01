{
  "cells": [
    {
      "cell_type": "markdown",
      "metadata": {
        "id": "view-in-github",
        "colab_type": "text"
      },
      "source": [
        "<a href=\"https://colab.research.google.com/github/10969SYURAD/-222059-2022-10-07-10-13-/blob/main/%E7%A6%8F%E7%94%B0%E4%BF%AE%E4%BC%8D2022_10_14_04.ipynb\" target=\"_parent\"><img src=\"https://colab.research.google.com/assets/colab-badge.svg\" alt=\"Open In Colab\"/></a>"
      ]
    },
    {
      "cell_type": "code",
      "execution_count": 19,
      "metadata": {
        "colab": {
          "base_uri": "https://localhost:8080/"
        },
        "id": "8jekOt9LuJ__",
        "outputId": "cd9e929d-8107-4b33-b3d0-54ac5c651ec4"
      },
      "outputs": [
        {
          "output_type": "stream",
          "name": "stdout",
          "text": [
            "月を数字だけを入力してください5\n",
            "春\n"
          ]
        }
      ],
      "source": [
        "a=int(input(\"月を数字だけを入力してください\"))\n",
        "\n",
        "if  a== 1 or  a== 2 or a== 12 :\n",
        "  print(\"冬\")\n",
        "elif a == 4 or a == 5 or a == 6 :\n",
        "  print(\"春\")\n",
        "elif a == 7 or a == 8 or a == 9 :\n",
        "  print(\"夏\")\n",
        "else:\n",
        "  print(\"秋\")"
      ]
    }
  ],
  "metadata": {
    "colab": {
      "provenance": [],
      "authorship_tag": "ABX9TyPPv6n4PIu92QtvPhogZyf+",
      "include_colab_link": true
    },
    "kernelspec": {
      "display_name": "Python 3",
      "name": "python3"
    },
    "language_info": {
      "name": "python"
    }
  },
  "nbformat": 4,
  "nbformat_minor": 0
}