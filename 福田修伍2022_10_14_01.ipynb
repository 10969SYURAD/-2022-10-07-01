{
  "nbformat": 4,
  "nbformat_minor": 0,
  "metadata": {
    "colab": {
      "provenance": [],
      "authorship_tag": "ABX9TyMI5UL6xNts0/KCSeO2dKbF",
      "include_colab_link": true
    },
    "kernelspec": {
      "name": "python3",
      "display_name": "Python 3"
    },
    "language_info": {
      "name": "python"
    }
  },
  "cells": [
    {
      "cell_type": "markdown",
      "metadata": {
        "id": "view-in-github",
        "colab_type": "text"
      },
      "source": [
        "<a href=\"https://colab.research.google.com/github/10969SYURAD/-222059-2022-10-07-10-13-/blob/main/%E7%A6%8F%E7%94%B0%E4%BF%AE%E4%BC%8D2022_10_14_01.ipynb\" target=\"_parent\"><img src=\"https://colab.research.google.com/assets/colab-badge.svg\" alt=\"Open In Colab\"/></a>"
      ]
    },
    {
      "cell_type": "markdown",
      "source": [],
      "metadata": {
        "id": "slbaoZegOBUv"
      }
    },
    {
      "cell_type": "code",
      "execution_count": 8,
      "metadata": {
        "colab": {
          "base_uri": "https://localhost:8080/"
        },
        "id": "_nx4vtEeNhzc",
        "outputId": "5f9f1c9f-4d5e-42ec-b8ff-96e5d9c7bdc6"
      },
      "outputs": [
        {
          "output_type": "stream",
          "name": "stdout",
          "text": [
            "整数を入力してください55\n",
            "不合格\n"
          ]
        }
      ],
      "source": [
        "seiseki=int(input(\"整数を入力してください\"))\n",
        "if 100 > seiseki >=90 :\n",
        "   print(\"S\")\n",
        "elif 90 > seiseki >=80 :\n",
        "   print(\"A\") \n",
        "elif 80 > seiseki >=70 :\n",
        "   print(\"B\")\n",
        "elif 70 > seiseki >=60:\n",
        "   print(\"C\")\n",
        "else:\n",
        "   print(\"不合格\")"
      ]
    }
  ]
}