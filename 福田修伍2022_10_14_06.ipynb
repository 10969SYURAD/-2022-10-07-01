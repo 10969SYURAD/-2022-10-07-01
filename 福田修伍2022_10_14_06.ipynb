{
  "nbformat": 4,
  "nbformat_minor": 0,
  "metadata": {
    "colab": {
      "provenance": [],
      "authorship_tag": "ABX9TyN7iCRNojX1TnqZe3LvbKZT",
      "include_colab_link": true
    },
    "kernelspec": {
      "name": "python3",
      "display_name": "Python 3"
    },
    "language_info": {
      "name": "python"
    }
  },
  "cells": [
    {
      "cell_type": "markdown",
      "metadata": {
        "id": "view-in-github",
        "colab_type": "text"
      },
      "source": [
        "<a href=\"https://colab.research.google.com/github/10969SYURAD/-222059-2022-10-07-10-13-/blob/main/%E7%A6%8F%E7%94%B0%E4%BF%AE%E4%BC%8D2022_10_14_06.ipynb\" target=\"_parent\"><img src=\"https://colab.research.google.com/assets/colab-badge.svg\" alt=\"Open In Colab\"/></a>"
      ]
    },
    {
      "cell_type": "code",
      "execution_count": 3,
      "metadata": {
        "colab": {
          "base_uri": "https://localhost:8080/"
        },
        "id": "i2di1Sb8AzsR",
        "outputId": "e547a201-6d63-4806-8cff-637bc8b33feb"
      },
      "outputs": [
        {
          "output_type": "stream",
          "name": "stdout",
          "text": [
            "数字を入れてください100\n",
            "数字を入れてください300\n",
            "数字を入れてください150\n",
            "300\n"
          ]
        }
      ],
      "source": [
        "a=int(input(\"数字を入れてください\"))\n",
        "b=int(input(\"数字を入れてください\"))\n",
        "c=int(input(\"数字を入れてください\"))\n",
        "list=[a,b,c]\n",
        "\n",
        "print(max(list))"
      ]
    }
  ]
}