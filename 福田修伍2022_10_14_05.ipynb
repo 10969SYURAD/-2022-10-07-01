{
  "nbformat": 4,
  "nbformat_minor": 0,
  "metadata": {
    "colab": {
      "provenance": [],
      "authorship_tag": "ABX9TyOO7e46DPvY6yw0i7CIV6vr",
      "include_colab_link": true
    },
    "kernelspec": {
      "name": "python3",
      "display_name": "Python 3"
    },
    "language_info": {
      "name": "python"
    }
  },
  "cells": [
    {
      "cell_type": "markdown",
      "metadata": {
        "id": "view-in-github",
        "colab_type": "text"
      },
      "source": [
        "<a href=\"https://colab.research.google.com/github/10969SYURAD/-222059-2022-10-07-10-13-/blob/main/%E7%A6%8F%E7%94%B0%E4%BF%AE%E4%BC%8D2022_10_14_05.ipynb\" target=\"_parent\"><img src=\"https://colab.research.google.com/assets/colab-badge.svg\" alt=\"Open In Colab\"/></a>"
      ]
    },
    {
      "cell_type": "code",
      "execution_count": null,
      "metadata": {
        "id": "-2gogFsN-fqv"
      },
      "outputs": [],
      "source": [
        "a=int(input(\"数を入力してください\"))\n",
        "\n",
        "if a>0:\n",
        "  print(\"0より大きい\")\n",
        "elif a<0:\n",
        "  print(\"0より小さい\")\n",
        "elif a==0:\n",
        "  print(\"ちょうど0\")\n",
        "else:\n",
        "  print(\"\")"
      ]
    }
  ]
}