{
  "nbformat": 4,
  "nbformat_minor": 0,
  "metadata": {
    "colab": {
      "provenance": [],
      "authorship_tag": "ABX9TyMBodPjIzfywMNzru1UvqwU",
      "include_colab_link": true
    },
    "kernelspec": {
      "name": "python3",
      "display_name": "Python 3"
    },
    "language_info": {
      "name": "python"
    }
  },
  "cells": [
    {
      "cell_type": "markdown",
      "metadata": {
        "id": "view-in-github",
        "colab_type": "text"
      },
      "source": [
        "<a href=\"https://colab.research.google.com/github/10969SYURAD/-222059-2022-10-07-10-13-/blob/main/%E7%A6%8F%E7%94%B0%E4%BF%AE%E4%BC%8D2022_10_14_03.ipynb\" target=\"_parent\"><img src=\"https://colab.research.google.com/assets/colab-badge.svg\" alt=\"Open In Colab\"/></a>"
      ]
    },
    {
      "cell_type": "code",
      "execution_count": 5,
      "metadata": {
        "colab": {
          "base_uri": "https://localhost:8080/"
        },
        "id": "dkRI9-CcfRr_",
        "outputId": "df26f08c-68e8-4a34-c1b6-23eeb2ae60d1"
      },
      "outputs": [
        {
          "output_type": "stream",
          "name": "stdout",
          "text": [
            "人数を入力して下さい110\n",
            "59400.0\n"
          ]
        }
      ],
      "source": [
        "human=int(input(\"人数を入力して下さい\"))\n",
        "price=600\n",
        "\n",
        "\n",
        "if human >20 and human<=100:\n",
        "  a=price*0.9\n",
        "  b=(600*10+a*(human-10))\n",
        "  print(b)\n",
        "elif human >100:\n",
        "  a=price*0.9\n",
        "  b=price*0.8\n",
        "  c=(600*10+a*90+b*(human-100))\n",
        "  print(c)\n",
        "  "
      ]
    }
  ]
}