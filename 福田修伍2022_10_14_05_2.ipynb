{
  "nbformat": 4,
  "nbformat_minor": 0,
  "metadata": {
    "colab": {
      "provenance": [],
      "authorship_tag": "ABX9TyNS8CfyDwd869vWbZC6c6eU",
      "include_colab_link": true
    },
    "kernelspec": {
      "name": "python3",
      "display_name": "Python 3"
    },
    "language_info": {
      "name": "python"
    }
  },
  "cells": [
    {
      "cell_type": "markdown",
      "metadata": {
        "id": "view-in-github",
        "colab_type": "text"
      },
      "source": [
        "<a href=\"https://colab.research.google.com/github/10969SYURAD/-222059-2022-10-07-10-13-/blob/main/%E7%A6%8F%E7%94%B0%E4%BF%AE%E4%BC%8D2022_10_14_05_2.ipynb\" target=\"_parent\"><img src=\"https://colab.research.google.com/assets/colab-badge.svg\" alt=\"Open In Colab\"/></a>"
      ]
    },
    {
      "cell_type": "code",
      "execution_count": 1,
      "metadata": {
        "colab": {
          "base_uri": "https://localhost:8080/"
        },
        "id": "gKhYIh3Y4fVt",
        "outputId": "e9e7fcb3-2e3b-4b1f-85c1-02d9a4f4a49e"
      },
      "outputs": [
        {
          "output_type": "stream",
          "name": "stdout",
          "text": [
            "数字を入れてください10\n",
            "数字を入れてください12\n",
            "数字を入れてください11\n",
            "10 11 12\n"
          ]
        }
      ],
      "source": [
        "a=int(input(\"数字を入れてください\"))\n",
        "b=int(input(\"数字を入れてください\"))\n",
        "c=int(input(\"数字を入れてください\"))\n",
        "\n",
        "if a<b<c:\n",
        "  print(a,b,c)\n",
        "elif a<c<b:\n",
        "  print(a,c,b)\n",
        "elif b<a<c:\n",
        "  print(b,a,c)\n",
        "elif b<c<a:\n",
        "  print(b.c.a)\n",
        "elif c<a<b:\n",
        "  print(c,a,b)\n",
        "elif c<b<a:\n",
        "  print(c,b,a)\n",
        "else:\n",
        "  print()"
      ]
    }
  ]
}