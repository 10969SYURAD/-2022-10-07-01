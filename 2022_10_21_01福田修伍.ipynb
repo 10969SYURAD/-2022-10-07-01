{
  "nbformat": 4,
  "nbformat_minor": 0,
  "metadata": {
    "colab": {
      "provenance": [],
      "authorship_tag": "ABX9TyPZs5VminWmurz/egrbCbvh",
      "include_colab_link": true
    },
    "kernelspec": {
      "name": "python3",
      "display_name": "Python 3"
    },
    "language_info": {
      "name": "python"
    }
  },
  "cells": [
    {
      "cell_type": "markdown",
      "metadata": {
        "id": "view-in-github",
        "colab_type": "text"
      },
      "source": [
        "<a href=\"https://colab.research.google.com/github/10969SYURAD/-222059-2022-10-07-10-13-/blob/main/2022_10_21_01%E7%A6%8F%E7%94%B0%E4%BF%AE%E4%BC%8D.ipynb\" target=\"_parent\"><img src=\"https://colab.research.google.com/assets/colab-badge.svg\" alt=\"Open In Colab\"/></a>"
      ]
    },
    {
      "cell_type": "code",
      "execution_count": 3,
      "metadata": {
        "colab": {
          "base_uri": "https://localhost:8080/"
        },
        "id": "6awxVeE9omxn",
        "outputId": "8e44b287-048c-4321-bd17-5f799d68f03d"
      },
      "outputs": [
        {
          "output_type": "stream",
          "name": "stdout",
          "text": [
            "駅名を入れてください新大久保\n",
            "不正解\n"
          ]
        }
      ],
      "source": [
        "a=input('駅名を入れてください')\n",
        "list=['新橋','秋葉原','高田馬場','上野','大崎']\n",
        "if a in list:\n",
        "  print('正解')\n",
        "else:\n",
        "  print('不正解')"
      ]
    }
  ]
}