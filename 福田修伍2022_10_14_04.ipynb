{
  "cells": [
    {
      "cell_type": "markdown",
      "metadata": {
        "id": "view-in-github",
        "colab_type": "text"
      },
      "source": [
        "<a href=\"https://colab.research.google.com/github/10969SYURAD/-222059-2022-10-07-10-13-/blob/main/%E7%A6%8F%E7%94%B0%E4%BF%AE%E4%BC%8D2022_10_14_04.ipynb\" target=\"_parent\"><img src=\"https://colab.research.google.com/assets/colab-badge.svg\" alt=\"Open In Colab\"/></a>"
      ]
    },
    {
      "cell_type": "code",
      "execution_count": 8,
      "metadata": {
        "colab": {
          "base_uri": "https://localhost:8080/"
        },
        "id": "8jekOt9LuJ__",
        "outputId": "9a75fc2e-d9ba-4334-e5ad-239b2066162f"
      },
      "outputs": [
        {
          "output_type": "stream",
          "name": "stdout",
          "text": [
            "月を数字だけを入力してください3\n",
            "春\n"
          ]
        }
      ],
      "source": [
        "a=int(input(\"月を数字だけを入力してください\"))\n",
        "\n",
        "if  a== 1 or  a== 2 or a== 12 :\n",
        "  print(\"冬\")\n",
        "elif a == 3 or a == 4 or a == 5 :\n",
        "  print(\"春\")\n",
        "elif a == 6 or a == 7 or a == 8 :\n",
        "  print(\"夏\")\n",
        "elif a == 9 or a ==10 or a ==11:\n",
        "  print(\"秋\")\n",
        "else:\n",
        "  print()"
      ]
    }
  ],
  "metadata": {
    "colab": {
      "provenance": [],
      "authorship_tag": "ABX9TyMgyDuZxOjkV8LCd39XVnNa",
      "include_colab_link": true
    },
    "kernelspec": {
      "display_name": "Python 3",
      "name": "python3"
    },
    "language_info": {
      "name": "python"
    }
  },
  "nbformat": 4,
  "nbformat_minor": 0
}