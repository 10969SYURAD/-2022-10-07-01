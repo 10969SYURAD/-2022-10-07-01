{
  "nbformat": 4,
  "nbformat_minor": 0,
  "metadata": {
    "colab": {
      "provenance": [],
      "authorship_tag": "ABX9TyOLe3wI/e+KtBlEyD5Ebpj2",
      "include_colab_link": true
    },
    "kernelspec": {
      "name": "python3",
      "display_name": "Python 3"
    },
    "language_info": {
      "name": "python"
    }
  },
  "cells": [
    {
      "cell_type": "markdown",
      "metadata": {
        "id": "view-in-github",
        "colab_type": "text"
      },
      "source": [
        "<a href=\"https://colab.research.google.com/github/10969SYURAD/-222059-2022-10-07-10-13-/blob/main/%E7%A6%8F%E7%94%B0%E4%BF%AE%E4%BC%8D2022_10_07_05.ipynb\" target=\"_parent\"><img src=\"https://colab.research.google.com/assets/colab-badge.svg\" alt=\"Open In Colab\"/></a>"
      ]
    },
    {
      "cell_type": "code",
      "execution_count": null,
      "metadata": {
        "id": "Ox9uDsV69Lhu"
      },
      "outputs": [],
      "source": [
        "a=(2**10)\n",
        "b=(10**3)\n",
        "print(a/b)\n"
      ]
    },
    {
      "cell_type": "code",
      "source": [
        "a=(2**20)\n",
        "b=(10**6)\n",
        "print(a/b)\n"
      ],
      "metadata": {
        "id": "MQnynDy_9N9p"
      },
      "execution_count": null,
      "outputs": []
    },
    {
      "cell_type": "code",
      "source": [
        "a=(2**30)\n",
        "b=(10**9)\n",
        "print(a/b)\n"
      ],
      "metadata": {
        "id": "z6PdeWM_9STg"
      },
      "execution_count": null,
      "outputs": []
    },
    {
      "cell_type": "code",
      "source": [
        "a=(2**40)\n",
        "b=(10**12)\n",
        "print(a/b)\n"
      ],
      "metadata": {
        "id": "rggfu-z89WcM"
      },
      "execution_count": null,
      "outputs": []
    }
  ]
}