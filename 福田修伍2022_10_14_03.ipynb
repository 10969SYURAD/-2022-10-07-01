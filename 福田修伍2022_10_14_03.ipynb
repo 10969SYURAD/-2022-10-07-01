{
  "nbformat": 4,
  "nbformat_minor": 0,
  "metadata": {
    "colab": {
      "provenance": [],
      "authorship_tag": "ABX9TyPO+fKLIST0XSAQi+X5j0IQ",
      "include_colab_link": true
    },
    "kernelspec": {
      "name": "python3",
      "display_name": "Python 3"
    },
    "language_info": {
      "name": "python"
    }
  },
  "cells": [
    {
      "cell_type": "markdown",
      "metadata": {
        "id": "view-in-github",
        "colab_type": "text"
      },
      "source": [
        "<a href=\"https://colab.research.google.com/github/10969SYURAD/-222059-2022-10-07-10-13-/blob/main/%E7%A6%8F%E7%94%B0%E4%BF%AE%E4%BC%8D2022_10_14_03.ipynb\" target=\"_parent\"><img src=\"https://colab.research.google.com/assets/colab-badge.svg\" alt=\"Open In Colab\"/></a>"
      ]
    },
    {
      "cell_type": "code",
      "execution_count": 3,
      "metadata": {
        "colab": {
          "base_uri": "https://localhost:8080/"
        },
        "id": "dkRI9-CcfRr_",
        "outputId": "c57336b5-89dd-452b-83b8-30077dd3eb15"
      },
      "outputs": [
        {
          "output_type": "stream",
          "name": "stdout",
          "text": [
            "人数を入力して下さい102\n",
            "55080.0\n"
          ]
        }
      ],
      "source": [
        "human=int(input(\"人数を入力して下さい\"))\n",
        "price=600\n",
        "\n",
        "\n",
        "if human >20:\n",
        "  a=price*0.9\n",
        "  print(a*human)\n",
        "elif human >100:\n",
        "  b=price*0.8\n",
        "  print(b*human)\n",
        "else:\n",
        "  print(price*human)"
      ]
    }
  ]
}