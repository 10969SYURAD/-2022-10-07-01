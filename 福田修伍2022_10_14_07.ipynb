{
  "nbformat": 4,
  "nbformat_minor": 0,
  "metadata": {
    "colab": {
      "provenance": [],
      "authorship_tag": "ABX9TyMz6M5D9+b8gFstxY+yzut3",
      "include_colab_link": true
    },
    "kernelspec": {
      "name": "python3",
      "display_name": "Python 3"
    },
    "language_info": {
      "name": "python"
    }
  },
  "cells": [
    {
      "cell_type": "markdown",
      "metadata": {
        "id": "view-in-github",
        "colab_type": "text"
      },
      "source": [
        "<a href=\"https://colab.research.google.com/github/10969SYURAD/-222059-2022-10-07-10-13-/blob/main/%E7%A6%8F%E7%94%B0%E4%BF%AE%E4%BC%8D2022_10_14_07.ipynb\" target=\"_parent\"><img src=\"https://colab.research.google.com/assets/colab-badge.svg\" alt=\"Open In Colab\"/></a>"
      ]
    },
    {
      "cell_type": "code",
      "execution_count": 3,
      "metadata": {
        "colab": {
          "base_uri": "https://localhost:8080/"
        },
        "id": "Yi9vzSWHEtEC",
        "outputId": "d81a0058-114a-4458-e994-4e241c5b0f89"
      },
      "outputs": [
        {
          "output_type": "stream",
          "name": "stdout",
          "text": [
            "数字を入れてください12\n",
            "数字を入れてください12\n",
            "数字を入れてください11\n",
            "3つのうちの2つが同じです\n"
          ]
        }
      ],
      "source": [
        "a=int(input(\"数字を入れてください\"))\n",
        "b=int(input(\"数字を入れてください\"))\n",
        "c=int(input(\"数字を入れてください\"))\n",
        "\n",
        "if a==b==c:\n",
        "  print(\"入力した3つの数字は同じです\")\n",
        "elif a==b!=c or a!=b==c or a==c!=b:\n",
        "  print(\"3つのうちの2つが同じです\")\n",
        "else:\n",
        "  print(\"3つともすべて異なります\")"
      ]
    }
  ]
}