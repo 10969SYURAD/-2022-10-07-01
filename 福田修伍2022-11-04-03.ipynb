{
  "nbformat": 4,
  "nbformat_minor": 0,
  "metadata": {
    "colab": {
      "provenance": [],
      "authorship_tag": "ABX9TyNbjAjqZwiweNbnRIiBaIFL",
      "include_colab_link": true
    },
    "kernelspec": {
      "name": "python3",
      "display_name": "Python 3"
    },
    "language_info": {
      "name": "python"
    }
  },
  "cells": [
    {
      "cell_type": "markdown",
      "metadata": {
        "id": "view-in-github",
        "colab_type": "text"
      },
      "source": [
        "<a href=\"https://colab.research.google.com/github/10969SYURAD/-222059-2022-10-07-10-13-/blob/main/%E7%A6%8F%E7%94%B0%E4%BF%AE%E4%BC%8D2022-11-04-03.ipynb\" target=\"_parent\"><img src=\"https://colab.research.google.com/assets/colab-badge.svg\" alt=\"Open In Colab\"/></a>"
      ]
    },
    {
      "cell_type": "code",
      "execution_count": 20,
      "metadata": {
        "colab": {
          "base_uri": "https://localhost:8080/"
        },
        "id": "rjRnt4QvAguz",
        "outputId": "38c238f4-bbe2-4307-fec4-d6296591f768"
      },
      "outputs": [
        {
          "output_type": "stream",
          "name": "stdout",
          "text": [
            "3\n",
            "4\n",
            "6\n",
            "8\n",
            "9\n",
            "12\n",
            "15\n",
            "16\n",
            "18\n",
            "20\n",
            "21\n",
            "24\n",
            "27\n",
            "28\n",
            "30\n",
            "32\n",
            "33\n",
            "36\n",
            "39\n",
            "40\n",
            "42\n",
            "44\n",
            "45\n",
            "48\n",
            "51\n",
            "52\n",
            "54\n",
            "56\n",
            "57\n",
            "60\n",
            "63\n",
            "64\n",
            "66\n",
            "68\n",
            "69\n",
            "72\n",
            "75\n",
            "76\n",
            "78\n",
            "80\n",
            "81\n",
            "84\n",
            "87\n",
            "88\n",
            "90\n",
            "92\n",
            "93\n",
            "96\n",
            "99\n",
            "100\n"
          ]
        }
      ],
      "source": [
        "i=0\n",
        "while i<100:\n",
        "  i+=1\n",
        "  if i%3==0 or i%4==0 or i%12==0:\n",
        "    print(i)\n",
        " "
      ]
    }
  ]
}