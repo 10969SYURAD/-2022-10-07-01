{
  "nbformat": 4,
  "nbformat_minor": 0,
  "metadata": {
    "colab": {
      "provenance": [],
      "authorship_tag": "ABX9TyPdLMfKWlrCOXPQIH1vk/vs",
      "include_colab_link": true
    },
    "kernelspec": {
      "name": "python3",
      "display_name": "Python 3"
    },
    "language_info": {
      "name": "python"
    }
  },
  "cells": [
    {
      "cell_type": "markdown",
      "metadata": {
        "id": "view-in-github",
        "colab_type": "text"
      },
      "source": [
        "<a href=\"https://colab.research.google.com/github/10969SYURAD/-222059-2022-10-07-10-13-/blob/main/%E7%A6%8F%E7%94%B0%E4%BF%AE%E4%BC%8D2022_10_14_02.ipynb\" target=\"_parent\"><img src=\"https://colab.research.google.com/assets/colab-badge.svg\" alt=\"Open In Colab\"/></a>"
      ]
    },
    {
      "cell_type": "code",
      "source": [
        "day=input(\"曜日を入れてください\")\n",
        "time=input(\"時間帯を入れてください\")\n",
        "\n",
        "if day=='日曜':\n",
        "  print(\"休診\")\n",
        "elif day==\"月曜\" and time==\"午前\":\n",
        "   print(\"休診\")\n",
        "elif day==\"水曜\" and time==\"夜間\":\n",
        "   print(\"休診\")\n",
        "elif day==\"金曜\" and time==\"午前\":\n",
        "   print(\"休診\")\n",
        "elif day==\"土曜\" and time==\"午後\":\n",
        "   print(\"休診\")\n",
        "elif day==\"土曜\" and time==\"夜間\":\n",
        "   print(\"休診\")\n",
        "else:\n",
        "  print(\"診察可能\")"
      ],
      "metadata": {
        "colab": {
          "base_uri": "https://localhost:8080/"
        },
        "id": "1MaETv_SI4tx",
        "outputId": "31eb9ce5-64b2-48d0-b56c-0ba017800f3d"
      },
      "execution_count": 3,
      "outputs": [
        {
          "output_type": "stream",
          "name": "stdout",
          "text": [
            "曜日を入れてください月曜\n",
            "時間帯を入れてください午後\n",
            "診察可能\n"
          ]
        }
      ]
    },
    {
      "cell_type": "markdown",
      "source": [],
      "metadata": {
        "id": "ERxHlDHlLEox"
      }
    }
  ]
}